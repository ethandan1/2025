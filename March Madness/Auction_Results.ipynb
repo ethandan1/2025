# Configuration
folder_path = "Weighting Optimization CSVs"
csv_file = os.path.join(folder_path, "Live 2025 Auction Graph.csv")
refresh_interval = 10  # seconds

# Variable to control the monitoring loop
monitoring = True

# Setup keyboard interrupt handler
def keyboard_interrupt_handler(signal, frame):
    global monitoring
    monitoring = False
    print("\nMonitoring stopped by keyboard interrupt.")
    
signal.signal(signal.SIGINT, keyboard_interrupt_handler)

# Function to create the plot
def create_plot(df):
    
    # Create the plot
    fig, ax = plt.subplots(figsize=(12, 6))
    
    # Scatter plot with conditional coloring
    current_team_value = df["All_Teams_Implied_Total_Pot"].iloc[-1]  # Get the most recent team value
    for i, value in enumerate(df["All_Teams_Implied_Total_Pot"]):
        color = 'green' if value < current_team_value else 'red'
        ax.scatter(df["Auction_Order"][i], value, color=color, zorder=3)
    
    # Line plots
    ax.plot(df["Auction_Order"], df["All_Teams_Implied_Total_Pot"], marker='o', linestyle='-', 
            color='blue', label="All Teams Implied Total Pot", zorder=2)
    ax.plot(df["Auction_Order"], df["Team_Implied_Total_Pot"], marker='o', linestyle='-', 
            color='black', label="Team Implied Total Pot", zorder=2)
    ax.plot(df["Auction_Order"], df["Smart_Estimated_Pot"], marker='o', linestyle='-', 
            color='gray', label="Smart Estimated Pot", zorder=2)
    
    # Modify x-axis labels to include Team and Seed
    df["Team_Label"] = df["Team"]
    ax.set_xticks(df["Auction_Order"])
    ax.set_xticklabels(df["Team_Label"], rotation=90, fontsize=8)
    
    # Formatting
    ax.set_xlabel("Auction Order (Team & Seed)")
    ax.set_ylabel("Implied Total Pot ($)")
    current_time = datetime.now().strftime("%H:%M:%S")
    ax.set_title(f"2025 Auction Results: Team Implied vs All Teams Implied Total Pot\nLast updated: {current_time}")
    ax.legend()
    
    plt.grid(axis='y', linestyle="--", alpha=0.5, zorder=0)
    plt.tight_layout()
    
    return fig

try:
    while monitoring:
        try:
            # Load the CSV file
            df = pd.read_csv(csv_file)
            
            # Clear previous output
            clear_output(wait=True)
            
            # Create and display the plot
            fig = create_plot(df)
            display(fig)
            
            # Wait for the specified interval
            time.sleep(refresh_interval)
        except Exception as e:
            clear_output(wait=True)
            print(f"Error updating plot: {e}")
            print("Retrying in 5 seconds...")
            time.sleep(5)
except KeyboardInterrupt:
    monitoring = False
print("Monitoring has ended.")
